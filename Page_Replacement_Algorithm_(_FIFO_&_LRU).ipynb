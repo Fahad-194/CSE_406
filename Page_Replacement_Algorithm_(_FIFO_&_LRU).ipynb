{
  "nbformat": 4,
  "nbformat_minor": 0,
  "metadata": {
    "colab": {
      "provenance": []
    },
    "kernelspec": {
      "name": "python3",
      "display_name": "Python 3"
    },
    "language_info": {
      "name": "python"
    }
  },
  "cells": [
    {
      "cell_type": "code",
      "execution_count": 1,
      "metadata": {
        "colab": {
          "base_uri": "https://localhost:8080/"
        },
        "id": "9mpPTITvaaob",
        "outputId": "81b3ac51-0638-4854-85f6-1d56dc3075cc"
      },
      "outputs": [
        {
          "output_type": "stream",
          "name": "stdout",
          "text": [
            "Enter page reference:3 2 0 1 0 5 9 1 2\n",
            "Enter number of frame:3\n",
            "Page:3-->[3]\n",
            "Page:2-->[3, 2]\n",
            "Page:0-->[3, 2, 0]\n",
            "Page:1-->[2, 0, 1]\n",
            "Page:0-->[2, 0, 1]\n",
            "Page:5-->[0, 1, 5]\n",
            "Page:9-->[1, 5, 9]\n",
            "Page:1-->[1, 5, 9]\n",
            "Page:2-->[5, 9, 2]\n",
            "Total page fault:7\n",
            "Page Hits:2\n"
          ]
        }
      ],
      "source": [
        "pages=list(map(int,input(\"Enter page reference:\").split()))\n",
        "frame=int(input(\"Enter number of frame:\"))\n",
        "mem=[]\n",
        "page_faults=0\n",
        "for i in pages:\n",
        "    if i not in mem:\n",
        "        if len(mem)<frame:\n",
        "            mem.append(i)\n",
        "        else:\n",
        "            mem.pop(0)\n",
        "            mem.append(i)\n",
        "        page_faults+=1\n",
        "    print(f\"Page:{i}-->{mem}\")\n",
        "print(f\"Total page fault:{page_faults}\")\n",
        "print(f\"Page Hits:{len(pages)- page_faults}\")\n",
        "\n"
      ]
    },
    {
      "cell_type": "code",
      "source": [
        "pages=list(map(int,input(\"Enter page reference:\").split()))\n",
        "frame=int(input(\"Enter number of frame:\"))\n",
        "mem=[]\n",
        "page_faults=0\n",
        "for i in pages:\n",
        "    if i not in mem:\n",
        "        if len(mem)<frame:\n",
        "            mem.append(i)\n",
        "        else:\n",
        "            mem.pop(0)\n",
        "            mem.append(i)\n",
        "        page_faults+=1\n",
        "    else:\n",
        "        mem.remove(i)\n",
        "        mem.append(i)\n",
        "    print(f\"Page:{i}-->{mem}\")\n",
        "print(f\"Total page fault:{page_faults}\")\n",
        "print(f\"Page Hits:{len(pages)- page_faults}\")"
      ],
      "metadata": {
        "colab": {
          "base_uri": "https://localhost:8080/"
        },
        "id": "tjjvZkddaqgP",
        "outputId": "ad3c62d5-3c1d-480c-ee61-28f82ae231e4"
      },
      "execution_count": 2,
      "outputs": [
        {
          "output_type": "stream",
          "name": "stdout",
          "text": [
            "Enter page reference:3 2 0 1 0 5 9 1 2\n",
            "Enter number of frame:3\n",
            "Page:3-->[3]\n",
            "Page:2-->[3, 2]\n",
            "Page:0-->[3, 2, 0]\n",
            "Page:1-->[2, 0, 1]\n",
            "Page:0-->[2, 1, 0]\n",
            "Page:5-->[1, 0, 5]\n",
            "Page:9-->[0, 5, 9]\n",
            "Page:1-->[5, 9, 1]\n",
            "Page:2-->[9, 1, 2]\n",
            "Total page fault:8\n",
            "Page Hits:1\n"
          ]
        }
      ]
    }
  ]
}